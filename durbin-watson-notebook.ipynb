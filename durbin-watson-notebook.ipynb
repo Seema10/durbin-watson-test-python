{
  "nbformat": 4,
  "nbformat_minor": 0,
  "metadata": {
    "colab": {
      "name": "durbin-watson-test.ipynb",
      "provenance": [],
      "collapsed_sections": []
    },
    "kernelspec": {
      "name": "python3",
      "display_name": "Python 3"
    }
  },
  "cells": [
    {
      "cell_type": "code",
      "metadata": {
        "id": "OJ6g6vuhGquZ",
        "colab_type": "code",
        "colab": {}
      },
      "source": [
        "import matplotlib.pyplot as plt\n",
        "import numpy as np\n",
        "import pandas as pd\n",
        "import scipy as sp\n",
        "import seaborn as sns\n",
        "import statsmodels.api as sm\n",
        "import statsmodels.tsa.api as smt\n",
        "import warnings\n",
        "from google.colab import drive\n",
        "from sklearn.linear_model import LinearRegression\n",
        "from sklearn.model_selection import train_test_split\n",
        "from statsmodels.stats.outliers_influence import variance_inflation_factor"
      ],
      "execution_count": 0,
      "outputs": []
    },
    {
      "cell_type": "code",
      "metadata": {
        "id": "hAuRD0LuGsuA",
        "colab_type": "code",
        "colab": {}
      },
      "source": [
        "warnings.filterwarnings(\"ignore\")\n",
        "%matplotlib inline"
      ],
      "execution_count": 0,
      "outputs": []
    },
    {
      "cell_type": "code",
      "metadata": {
        "id": "o3IUV044G7Mc",
        "colab_type": "code",
        "outputId": "eebc1982-9d90-490c-f814-4412385146a6",
        "colab": {
          "base_uri": "https://localhost:8080/",
          "height": 35
        }
      },
      "source": [
        "drive.mount('/content/drive')"
      ],
      "execution_count": 36,
      "outputs": [
        {
          "output_type": "stream",
          "text": [
            "Drive already mounted at /content/drive; to attempt to forcibly remount, call drive.mount(\"/content/drive\", force_remount=True).\n"
          ],
          "name": "stdout"
        }
      ]
    },
    {
      "cell_type": "code",
      "metadata": {
        "id": "S5vMtmcMG8c_",
        "colab_type": "code",
        "colab": {}
      },
      "source": [
        "path = \"/content/drive/My Drive/durbin_data.csv\""
      ],
      "execution_count": 0,
      "outputs": []
    },
    {
      "cell_type": "code",
      "metadata": {
        "id": "eET-2BJYHClY",
        "colab_type": "code",
        "colab": {}
      },
      "source": [
        "df = pd.read_csv(path)"
      ],
      "execution_count": 0,
      "outputs": []
    },
    {
      "cell_type": "code",
      "metadata": {
        "id": "xuycFHBFHFMA",
        "colab_type": "code",
        "outputId": "25b5dcaa-4624-4670-b627-12008d9e7c6e",
        "colab": {
          "base_uri": "https://localhost:8080/",
          "height": 52
        }
      },
      "source": [
        "print (\"Total number of rows in dataset = {}\".format(df.shape[0]))\n",
        "print (\"Total number of columns in dataset = {}\".format(df.shape[1]))"
      ],
      "execution_count": 39,
      "outputs": [
        {
          "output_type": "stream",
          "text": [
            "Total number of rows in dataset = 200\n",
            "Total number of columns in dataset = 4\n"
          ],
          "name": "stdout"
        }
      ]
    },
    {
      "cell_type": "code",
      "metadata": {
        "id": "4hI1HSMYHGva",
        "colab_type": "code",
        "outputId": "a5e4f1e5-a27b-4fc2-c427-e0455987166a",
        "colab": {
          "base_uri": "https://localhost:8080/",
          "height": 202
        }
      },
      "source": [
        "df.head()"
      ],
      "execution_count": 40,
      "outputs": [
        {
          "output_type": "execute_result",
          "data": {
            "text/html": [
              "<div>\n",
              "<style scoped>\n",
              "    .dataframe tbody tr th:only-of-type {\n",
              "        vertical-align: middle;\n",
              "    }\n",
              "\n",
              "    .dataframe tbody tr th {\n",
              "        vertical-align: top;\n",
              "    }\n",
              "\n",
              "    .dataframe thead th {\n",
              "        text-align: right;\n",
              "    }\n",
              "</style>\n",
              "<table border=\"1\" class=\"dataframe\">\n",
              "  <thead>\n",
              "    <tr style=\"text-align: right;\">\n",
              "      <th></th>\n",
              "      <th>X1</th>\n",
              "      <th>X2</th>\n",
              "      <th>X3</th>\n",
              "      <th>Y</th>\n",
              "    </tr>\n",
              "  </thead>\n",
              "  <tbody>\n",
              "    <tr>\n",
              "      <th>0</th>\n",
              "      <td>230.1</td>\n",
              "      <td>37.8</td>\n",
              "      <td>69.2</td>\n",
              "      <td>22.1</td>\n",
              "    </tr>\n",
              "    <tr>\n",
              "      <th>1</th>\n",
              "      <td>44.5</td>\n",
              "      <td>39.3</td>\n",
              "      <td>45.1</td>\n",
              "      <td>10.4</td>\n",
              "    </tr>\n",
              "    <tr>\n",
              "      <th>2</th>\n",
              "      <td>17.2</td>\n",
              "      <td>45.9</td>\n",
              "      <td>69.3</td>\n",
              "      <td>9.3</td>\n",
              "    </tr>\n",
              "    <tr>\n",
              "      <th>3</th>\n",
              "      <td>151.5</td>\n",
              "      <td>41.3</td>\n",
              "      <td>58.5</td>\n",
              "      <td>18.5</td>\n",
              "    </tr>\n",
              "    <tr>\n",
              "      <th>4</th>\n",
              "      <td>180.8</td>\n",
              "      <td>10.8</td>\n",
              "      <td>58.4</td>\n",
              "      <td>12.9</td>\n",
              "    </tr>\n",
              "  </tbody>\n",
              "</table>\n",
              "</div>"
            ],
            "text/plain": [
              "      X1    X2    X3     Y\n",
              "0  230.1  37.8  69.2  22.1\n",
              "1   44.5  39.3  45.1  10.4\n",
              "2   17.2  45.9  69.3   9.3\n",
              "3  151.5  41.3  58.5  18.5\n",
              "4  180.8  10.8  58.4  12.9"
            ]
          },
          "metadata": {
            "tags": []
          },
          "execution_count": 40
        }
      ]
    },
    {
      "cell_type": "code",
      "metadata": {
        "id": "18qrj1qVHIJp",
        "colab_type": "code",
        "colab": {}
      },
      "source": [
        "target_col = \"Y\""
      ],
      "execution_count": 0,
      "outputs": []
    },
    {
      "cell_type": "code",
      "metadata": {
        "id": "TUxWcUiCHLiI",
        "colab_type": "code",
        "colab": {}
      },
      "source": [
        "X = df.loc[:, df.columns != target_col]\n",
        "y = df.loc[:, target_col]"
      ],
      "execution_count": 0,
      "outputs": []
    },
    {
      "cell_type": "code",
      "metadata": {
        "id": "vNlJ3qaSxqUJ",
        "colab_type": "code",
        "colab": {}
      },
      "source": [
        "# Split the data into train and test with 70% data being used for training\n",
        "X_train, X_test, y_train, y_test = train_test_split(X, y, \n",
        "                                                    test_size=0.30, \n",
        "                                                    random_state=42)"
      ],
      "execution_count": 0,
      "outputs": []
    },
    {
      "cell_type": "markdown",
      "metadata": {
        "id": "kL_0pbTeIZ80",
        "colab_type": "text"
      },
      "source": [
        "# Linear Regression using statsmodels "
      ]
    },
    {
      "cell_type": "code",
      "metadata": {
        "id": "zpxeNJZ2HS3I",
        "colab_type": "code",
        "colab": {}
      },
      "source": [
        "X_with_constant = sm.add_constant(X_train)\n",
        "model = sm.OLS(y_train, X_with_constant)"
      ],
      "execution_count": 0,
      "outputs": []
    },
    {
      "cell_type": "code",
      "metadata": {
        "id": "60yAyWlfHZJc",
        "colab_type": "code",
        "outputId": "13bbdfb7-fb35-4cbf-e963-01e0afe4951f",
        "colab": {
          "base_uri": "https://localhost:8080/",
          "height": 104
        }
      },
      "source": [
        "results = model.fit()\n",
        "results.params"
      ],
      "execution_count": 45,
      "outputs": [
        {
          "output_type": "execute_result",
          "data": {
            "text/plain": [
              "const    2.708949\n",
              "X1       0.044059\n",
              "X2       0.199287\n",
              "X3       0.006882\n",
              "dtype: float64"
            ]
          },
          "metadata": {
            "tags": []
          },
          "execution_count": 45
        }
      ]
    },
    {
      "cell_type": "code",
      "metadata": {
        "id": "XwX1CvbIHjaf",
        "colab_type": "code",
        "outputId": "6ab6ac95-8c60-43d0-b59c-728cc2aa8284",
        "colab": {
          "base_uri": "https://localhost:8080/",
          "height": 485
        }
      },
      "source": [
        "print(results.summary())"
      ],
      "execution_count": 46,
      "outputs": [
        {
          "output_type": "stream",
          "text": [
            "                            OLS Regression Results                            \n",
            "==============================================================================\n",
            "Dep. Variable:                      Y   R-squared:                       0.906\n",
            "Model:                            OLS   Adj. R-squared:                  0.903\n",
            "Method:                 Least Squares   F-statistic:                     434.5\n",
            "Date:                Wed, 11 Dec 2019   Prob (F-statistic):           1.88e-69\n",
            "Time:                        04:28:44   Log-Likelihood:                -262.21\n",
            "No. Observations:                 140   AIC:                             532.4\n",
            "Df Residuals:                     136   BIC:                             544.2\n",
            "Df Model:                           3                                         \n",
            "Covariance Type:            nonrobust                                         \n",
            "==============================================================================\n",
            "                 coef    std err          t      P>|t|      [0.025      0.975]\n",
            "------------------------------------------------------------------------------\n",
            "const          2.7089      0.374      7.250      0.000       1.970       3.448\n",
            "X1             0.0441      0.002     27.219      0.000       0.041       0.047\n",
            "X2             0.1993      0.010     20.195      0.000       0.180       0.219\n",
            "X3             0.0069      0.007      0.988      0.325      -0.007       0.021\n",
            "==============================================================================\n",
            "Omnibus:                       68.437   Durbin-Watson:                   2.285\n",
            "Prob(Omnibus):                  0.000   Jarque-Bera (JB):              325.342\n",
            "Skew:                          -1.709   Prob(JB):                     2.25e-71\n",
            "Kurtosis:                       9.640   Cond. No.                         500.\n",
            "==============================================================================\n",
            "\n",
            "Warnings:\n",
            "[1] Standard Errors assume that the covariance matrix of the errors is correctly specified.\n"
          ],
          "name": "stdout"
        }
      ]
    },
    {
      "cell_type": "code",
      "metadata": {
        "id": "_EEHKVDWyAM_",
        "colab_type": "code",
        "colab": {}
      },
      "source": [
        "X_test = sm.add_constant(X_with_constant)"
      ],
      "execution_count": 0,
      "outputs": []
    },
    {
      "cell_type": "code",
      "metadata": {
        "id": "DMrfPYNyx7OU",
        "colab_type": "code",
        "colab": {}
      },
      "source": [
        "y_pred = results.predict(X_with_constant)"
      ],
      "execution_count": 0,
      "outputs": []
    },
    {
      "cell_type": "code",
      "metadata": {
        "id": "ViGVFhjTLwaB",
        "colab_type": "code",
        "colab": {}
      },
      "source": [
        "residual = y_train - y_pred"
      ],
      "execution_count": 0,
      "outputs": []
    },
    {
      "cell_type": "code",
      "metadata": {
        "id": "izKph_Ljtx1I",
        "colab_type": "code",
        "colab": {}
      },
      "source": [
        "residual_df = pd.DataFrame(residual, columns=[\"ei\"]).reset_index(drop=True)"
      ],
      "execution_count": 0,
      "outputs": []
    },
    {
      "cell_type": "code",
      "metadata": {
        "id": "luCg2nrptx6X",
        "colab_type": "code",
        "outputId": "1ae45e42-b44f-4861-ce36-51844171aaa4",
        "colab": {
          "base_uri": "https://localhost:8080/",
          "height": 202
        }
      },
      "source": [
        "residual_df.head()"
      ],
      "execution_count": 51,
      "outputs": [
        {
          "output_type": "execute_result",
          "data": {
            "text/html": [
              "<div>\n",
              "<style scoped>\n",
              "    .dataframe tbody tr th:only-of-type {\n",
              "        vertical-align: middle;\n",
              "    }\n",
              "\n",
              "    .dataframe tbody tr th {\n",
              "        vertical-align: top;\n",
              "    }\n",
              "\n",
              "    .dataframe thead th {\n",
              "        text-align: right;\n",
              "    }\n",
              "</style>\n",
              "<table border=\"1\" class=\"dataframe\">\n",
              "  <thead>\n",
              "    <tr style=\"text-align: right;\">\n",
              "      <th></th>\n",
              "      <th>ei</th>\n",
              "    </tr>\n",
              "  </thead>\n",
              "  <tbody>\n",
              "    <tr>\n",
              "      <th>0</th>\n",
              "      <td>-2.391498</td>\n",
              "    </tr>\n",
              "    <tr>\n",
              "      <th>1</th>\n",
              "      <td>0.308038</td>\n",
              "    </tr>\n",
              "    <tr>\n",
              "      <th>2</th>\n",
              "      <td>0.483493</td>\n",
              "    </tr>\n",
              "    <tr>\n",
              "      <th>3</th>\n",
              "      <td>-2.006105</td>\n",
              "    </tr>\n",
              "    <tr>\n",
              "      <th>4</th>\n",
              "      <td>-3.592562</td>\n",
              "    </tr>\n",
              "  </tbody>\n",
              "</table>\n",
              "</div>"
            ],
            "text/plain": [
              "         ei\n",
              "0 -2.391498\n",
              "1  0.308038\n",
              "2  0.483493\n",
              "3 -2.006105\n",
              "4 -3.592562"
            ]
          },
          "metadata": {
            "tags": []
          },
          "execution_count": 51
        }
      ]
    },
    {
      "cell_type": "code",
      "metadata": {
        "id": "G1yInxNExNFc",
        "colab_type": "code",
        "colab": {}
      },
      "source": [
        "residual_df['ei_square'] = np.square(residual_df['ei'])"
      ],
      "execution_count": 0,
      "outputs": []
    },
    {
      "cell_type": "code",
      "metadata": {
        "id": "urjKyqSUxQmE",
        "colab_type": "code",
        "outputId": "b3d4730b-6585-4bb2-8ff7-2f7d1e41aeae",
        "colab": {
          "base_uri": "https://localhost:8080/",
          "height": 35
        }
      },
      "source": [
        "sum_of_squared_residuals = residual_df.sum()[\"ei_square\"]\n",
        "sum_of_squared_residuals"
      ],
      "execution_count": 53,
      "outputs": [
        {
          "output_type": "execute_result",
          "data": {
            "text/plain": [
              "347.1097250468101"
            ]
          },
          "metadata": {
            "tags": []
          },
          "execution_count": 53
        }
      ]
    },
    {
      "cell_type": "code",
      "metadata": {
        "id": "4NmiH0QCxrIO",
        "colab_type": "code",
        "outputId": "c0df6c3c-0cdf-4113-be27-6cf09e044d26",
        "colab": {
          "base_uri": "https://localhost:8080/",
          "height": 202
        }
      },
      "source": [
        "residual_df.head()"
      ],
      "execution_count": 54,
      "outputs": [
        {
          "output_type": "execute_result",
          "data": {
            "text/html": [
              "<div>\n",
              "<style scoped>\n",
              "    .dataframe tbody tr th:only-of-type {\n",
              "        vertical-align: middle;\n",
              "    }\n",
              "\n",
              "    .dataframe tbody tr th {\n",
              "        vertical-align: top;\n",
              "    }\n",
              "\n",
              "    .dataframe thead th {\n",
              "        text-align: right;\n",
              "    }\n",
              "</style>\n",
              "<table border=\"1\" class=\"dataframe\">\n",
              "  <thead>\n",
              "    <tr style=\"text-align: right;\">\n",
              "      <th></th>\n",
              "      <th>ei</th>\n",
              "      <th>ei_square</th>\n",
              "    </tr>\n",
              "  </thead>\n",
              "  <tbody>\n",
              "    <tr>\n",
              "      <th>0</th>\n",
              "      <td>-2.391498</td>\n",
              "      <td>5.719262</td>\n",
              "    </tr>\n",
              "    <tr>\n",
              "      <th>1</th>\n",
              "      <td>0.308038</td>\n",
              "      <td>0.094888</td>\n",
              "    </tr>\n",
              "    <tr>\n",
              "      <th>2</th>\n",
              "      <td>0.483493</td>\n",
              "      <td>0.233765</td>\n",
              "    </tr>\n",
              "    <tr>\n",
              "      <th>3</th>\n",
              "      <td>-2.006105</td>\n",
              "      <td>4.024456</td>\n",
              "    </tr>\n",
              "    <tr>\n",
              "      <th>4</th>\n",
              "      <td>-3.592562</td>\n",
              "      <td>12.906499</td>\n",
              "    </tr>\n",
              "  </tbody>\n",
              "</table>\n",
              "</div>"
            ],
            "text/plain": [
              "         ei  ei_square\n",
              "0 -2.391498   5.719262\n",
              "1  0.308038   0.094888\n",
              "2  0.483493   0.233765\n",
              "3 -2.006105   4.024456\n",
              "4 -3.592562  12.906499"
            ]
          },
          "metadata": {
            "tags": []
          },
          "execution_count": 54
        }
      ]
    },
    {
      "cell_type": "code",
      "metadata": {
        "id": "kaD7VsDxtx-H",
        "colab_type": "code",
        "colab": {}
      },
      "source": [
        "residual_df['ei_minus_1'] = residual_df['ei'].shift()"
      ],
      "execution_count": 0,
      "outputs": []
    },
    {
      "cell_type": "code",
      "metadata": {
        "id": "g0E1cTGlyTXU",
        "colab_type": "code",
        "outputId": "e95615f1-fcd2-49ef-bfb6-cf7e5886bed9",
        "colab": {
          "base_uri": "https://localhost:8080/",
          "height": 202
        }
      },
      "source": [
        "residual_df.head()"
      ],
      "execution_count": 56,
      "outputs": [
        {
          "output_type": "execute_result",
          "data": {
            "text/html": [
              "<div>\n",
              "<style scoped>\n",
              "    .dataframe tbody tr th:only-of-type {\n",
              "        vertical-align: middle;\n",
              "    }\n",
              "\n",
              "    .dataframe tbody tr th {\n",
              "        vertical-align: top;\n",
              "    }\n",
              "\n",
              "    .dataframe thead th {\n",
              "        text-align: right;\n",
              "    }\n",
              "</style>\n",
              "<table border=\"1\" class=\"dataframe\">\n",
              "  <thead>\n",
              "    <tr style=\"text-align: right;\">\n",
              "      <th></th>\n",
              "      <th>ei</th>\n",
              "      <th>ei_square</th>\n",
              "      <th>ei_minus_1</th>\n",
              "    </tr>\n",
              "  </thead>\n",
              "  <tbody>\n",
              "    <tr>\n",
              "      <th>0</th>\n",
              "      <td>-2.391498</td>\n",
              "      <td>5.719262</td>\n",
              "      <td>NaN</td>\n",
              "    </tr>\n",
              "    <tr>\n",
              "      <th>1</th>\n",
              "      <td>0.308038</td>\n",
              "      <td>0.094888</td>\n",
              "      <td>-2.391498</td>\n",
              "    </tr>\n",
              "    <tr>\n",
              "      <th>2</th>\n",
              "      <td>0.483493</td>\n",
              "      <td>0.233765</td>\n",
              "      <td>0.308038</td>\n",
              "    </tr>\n",
              "    <tr>\n",
              "      <th>3</th>\n",
              "      <td>-2.006105</td>\n",
              "      <td>4.024456</td>\n",
              "      <td>0.483493</td>\n",
              "    </tr>\n",
              "    <tr>\n",
              "      <th>4</th>\n",
              "      <td>-3.592562</td>\n",
              "      <td>12.906499</td>\n",
              "      <td>-2.006105</td>\n",
              "    </tr>\n",
              "  </tbody>\n",
              "</table>\n",
              "</div>"
            ],
            "text/plain": [
              "         ei  ei_square  ei_minus_1\n",
              "0 -2.391498   5.719262         NaN\n",
              "1  0.308038   0.094888   -2.391498\n",
              "2  0.483493   0.233765    0.308038\n",
              "3 -2.006105   4.024456    0.483493\n",
              "4 -3.592562  12.906499   -2.006105"
            ]
          },
          "metadata": {
            "tags": []
          },
          "execution_count": 56
        }
      ]
    },
    {
      "cell_type": "code",
      "metadata": {
        "id": "-QBxcMs9yUxq",
        "colab_type": "code",
        "outputId": "e30f504e-3729-4535-dedd-d382f6dbdea6",
        "colab": {
          "base_uri": "https://localhost:8080/",
          "height": 202
        }
      },
      "source": [
        "residual_df.tail()"
      ],
      "execution_count": 57,
      "outputs": [
        {
          "output_type": "execute_result",
          "data": {
            "text/html": [
              "<div>\n",
              "<style scoped>\n",
              "    .dataframe tbody tr th:only-of-type {\n",
              "        vertical-align: middle;\n",
              "    }\n",
              "\n",
              "    .dataframe tbody tr th {\n",
              "        vertical-align: top;\n",
              "    }\n",
              "\n",
              "    .dataframe thead th {\n",
              "        text-align: right;\n",
              "    }\n",
              "</style>\n",
              "<table border=\"1\" class=\"dataframe\">\n",
              "  <thead>\n",
              "    <tr style=\"text-align: right;\">\n",
              "      <th></th>\n",
              "      <th>ei</th>\n",
              "      <th>ei_square</th>\n",
              "      <th>ei_minus_1</th>\n",
              "    </tr>\n",
              "  </thead>\n",
              "  <tbody>\n",
              "    <tr>\n",
              "      <th>135</th>\n",
              "      <td>0.992998</td>\n",
              "      <td>0.986044</td>\n",
              "      <td>1.785357</td>\n",
              "    </tr>\n",
              "    <tr>\n",
              "      <th>136</th>\n",
              "      <td>0.425400</td>\n",
              "      <td>0.180965</td>\n",
              "      <td>0.992998</td>\n",
              "    </tr>\n",
              "    <tr>\n",
              "      <th>137</th>\n",
              "      <td>0.017150</td>\n",
              "      <td>0.000294</td>\n",
              "      <td>0.425400</td>\n",
              "    </tr>\n",
              "    <tr>\n",
              "      <th>138</th>\n",
              "      <td>0.480828</td>\n",
              "      <td>0.231195</td>\n",
              "      <td>0.017150</td>\n",
              "    </tr>\n",
              "    <tr>\n",
              "      <th>139</th>\n",
              "      <td>-2.414448</td>\n",
              "      <td>5.829558</td>\n",
              "      <td>0.480828</td>\n",
              "    </tr>\n",
              "  </tbody>\n",
              "</table>\n",
              "</div>"
            ],
            "text/plain": [
              "           ei  ei_square  ei_minus_1\n",
              "135  0.992998   0.986044    1.785357\n",
              "136  0.425400   0.180965    0.992998\n",
              "137  0.017150   0.000294    0.425400\n",
              "138  0.480828   0.231195    0.017150\n",
              "139 -2.414448   5.829558    0.480828"
            ]
          },
          "metadata": {
            "tags": []
          },
          "execution_count": 57
        }
      ]
    },
    {
      "cell_type": "code",
      "metadata": {
        "id": "6nYr8Az2xqCy",
        "colab_type": "code",
        "colab": {}
      },
      "source": [
        "residual_df.dropna(inplace=True)"
      ],
      "execution_count": 0,
      "outputs": []
    },
    {
      "cell_type": "code",
      "metadata": {
        "id": "QKsxvNauxyzu",
        "colab_type": "code",
        "outputId": "547a5e59-4a25-4f48-f673-2f28a57f2a86",
        "colab": {
          "base_uri": "https://localhost:8080/",
          "height": 35
        }
      },
      "source": [
        "residual_df.shape"
      ],
      "execution_count": 59,
      "outputs": [
        {
          "output_type": "execute_result",
          "data": {
            "text/plain": [
              "(139, 3)"
            ]
          },
          "metadata": {
            "tags": []
          },
          "execution_count": 59
        }
      ]
    },
    {
      "cell_type": "code",
      "metadata": {
        "id": "J4X1LlhHu8qo",
        "colab_type": "code",
        "colab": {}
      },
      "source": [
        "residual_df['ei_sub_ei_minus_1'] = residual_df['ei'] - residual_df['ei_minus_1'] "
      ],
      "execution_count": 0,
      "outputs": []
    },
    {
      "cell_type": "code",
      "metadata": {
        "id": "RlsX7sY7wYPh",
        "colab_type": "code",
        "colab": {}
      },
      "source": [
        "residual_df['square_of_ei_sub_ei_minus_1'] = np.square(residual_df['ei_sub_ei_minus_1'])"
      ],
      "execution_count": 0,
      "outputs": []
    },
    {
      "cell_type": "code",
      "metadata": {
        "id": "r22pgROUtb8T",
        "colab_type": "code",
        "outputId": "efabc6ea-ef1b-4238-d0ca-2571ca728406",
        "colab": {
          "base_uri": "https://localhost:8080/",
          "height": 202
        }
      },
      "source": [
        "residual_df.head()"
      ],
      "execution_count": 62,
      "outputs": [
        {
          "output_type": "execute_result",
          "data": {
            "text/html": [
              "<div>\n",
              "<style scoped>\n",
              "    .dataframe tbody tr th:only-of-type {\n",
              "        vertical-align: middle;\n",
              "    }\n",
              "\n",
              "    .dataframe tbody tr th {\n",
              "        vertical-align: top;\n",
              "    }\n",
              "\n",
              "    .dataframe thead th {\n",
              "        text-align: right;\n",
              "    }\n",
              "</style>\n",
              "<table border=\"1\" class=\"dataframe\">\n",
              "  <thead>\n",
              "    <tr style=\"text-align: right;\">\n",
              "      <th></th>\n",
              "      <th>ei</th>\n",
              "      <th>ei_square</th>\n",
              "      <th>ei_minus_1</th>\n",
              "      <th>ei_sub_ei_minus_1</th>\n",
              "      <th>square_of_ei_sub_ei_minus_1</th>\n",
              "    </tr>\n",
              "  </thead>\n",
              "  <tbody>\n",
              "    <tr>\n",
              "      <th>1</th>\n",
              "      <td>0.308038</td>\n",
              "      <td>0.094888</td>\n",
              "      <td>-2.391498</td>\n",
              "      <td>2.699536</td>\n",
              "      <td>7.287496</td>\n",
              "    </tr>\n",
              "    <tr>\n",
              "      <th>2</th>\n",
              "      <td>0.483493</td>\n",
              "      <td>0.233765</td>\n",
              "      <td>0.308038</td>\n",
              "      <td>0.175455</td>\n",
              "      <td>0.030784</td>\n",
              "    </tr>\n",
              "    <tr>\n",
              "      <th>3</th>\n",
              "      <td>-2.006105</td>\n",
              "      <td>4.024456</td>\n",
              "      <td>0.483493</td>\n",
              "      <td>-2.489598</td>\n",
              "      <td>6.198097</td>\n",
              "    </tr>\n",
              "    <tr>\n",
              "      <th>4</th>\n",
              "      <td>-3.592562</td>\n",
              "      <td>12.906499</td>\n",
              "      <td>-2.006105</td>\n",
              "      <td>-1.586457</td>\n",
              "      <td>2.516846</td>\n",
              "    </tr>\n",
              "    <tr>\n",
              "      <th>5</th>\n",
              "      <td>-0.305778</td>\n",
              "      <td>0.093500</td>\n",
              "      <td>-3.592562</td>\n",
              "      <td>3.286784</td>\n",
              "      <td>10.802948</td>\n",
              "    </tr>\n",
              "  </tbody>\n",
              "</table>\n",
              "</div>"
            ],
            "text/plain": [
              "         ei  ei_square  ...  ei_sub_ei_minus_1  square_of_ei_sub_ei_minus_1\n",
              "1  0.308038   0.094888  ...           2.699536                     7.287496\n",
              "2  0.483493   0.233765  ...           0.175455                     0.030784\n",
              "3 -2.006105   4.024456  ...          -2.489598                     6.198097\n",
              "4 -3.592562  12.906499  ...          -1.586457                     2.516846\n",
              "5 -0.305778   0.093500  ...           3.286784                    10.802948\n",
              "\n",
              "[5 rows x 5 columns]"
            ]
          },
          "metadata": {
            "tags": []
          },
          "execution_count": 62
        }
      ]
    },
    {
      "cell_type": "code",
      "metadata": {
        "id": "tONWCFQSyrQt",
        "colab_type": "code",
        "outputId": "56cf77f5-799a-4c5e-9277-e4243cc2dd71",
        "colab": {
          "base_uri": "https://localhost:8080/",
          "height": 35
        }
      },
      "source": [
        "sum_of_squared_of_difference_residuals = residual_df.sum()[\"square_of_ei_sub_ei_minus_1\"]\n",
        "sum_of_squared_of_difference_residuals"
      ],
      "execution_count": 63,
      "outputs": [
        {
          "output_type": "execute_result",
          "data": {
            "text/plain": [
              "793.3116126261241"
            ]
          },
          "metadata": {
            "tags": []
          },
          "execution_count": 63
        }
      ]
    },
    {
      "cell_type": "code",
      "metadata": {
        "id": "ZRyXPtdvywkz",
        "colab_type": "code",
        "colab": {}
      },
      "source": [
        "dw = sum_of_squared_of_difference_residuals/sum_of_squared_residuals"
      ],
      "execution_count": 0,
      "outputs": []
    },
    {
      "cell_type": "code",
      "metadata": {
        "id": "oW29343tywn7",
        "colab_type": "code",
        "outputId": "883ecbf9-2686-4f0b-b036-5006ea3fd436",
        "colab": {
          "base_uri": "https://localhost:8080/",
          "height": 35
        }
      },
      "source": [
        "dw"
      ],
      "execution_count": 65,
      "outputs": [
        {
          "output_type": "execute_result",
          "data": {
            "text/plain": [
              "2.2854779206175815"
            ]
          },
          "metadata": {
            "tags": []
          },
          "execution_count": 65
        }
      ]
    },
    {
      "cell_type": "markdown",
      "metadata": {
        "id": "8uwQaKeH7dT-",
        "colab_type": "text"
      },
      "source": [
        "# No autocorrelation of residuals"
      ]
    },
    {
      "cell_type": "code",
      "metadata": {
        "id": "XQr_qb793cl_",
        "colab_type": "code",
        "colab": {
          "base_uri": "https://localhost:8080/",
          "height": 281
        },
        "outputId": "51d58dd9-3986-4f7e-dddb-115db341c1ea"
      },
      "source": [
        "acf = smt.graphics.plot_acf(residual, lags=40 , alpha=0.05)\n",
        "acf.show()"
      ],
      "execution_count": 66,
      "outputs": [
        {
          "output_type": "display_data",
          "data": {
            "image/png": "[encoded data removed]",
            "text/plain": [
              "<Figure size 432x288 with 1 Axes>"
            ]
          },
          "metadata": {
            "tags": []
          }
        }
      ]
    }
  ]
}